{
 "cells": [
  {
   "cell_type": "markdown",
   "id": "b607c494-9dc7-4be3-9961-fffbaef47332",
   "metadata": {},
   "source": [
    "ML ZOOMCAMP\n",
    "WEEK 2\n",
    "HOUSING PRICES"
   ]
  },
  {
   "cell_type": "code",
   "execution_count": 159,
   "id": "ff089c74-df56-4fb3-888c-796da581f63f",
   "metadata": {},
   "outputs": [],
   "source": [
    "import pandas as pd\n",
    "import numpy as np\n",
    "\n",
    "import seaborn as sns\n",
    "from matplotlib import pyplot as plt\n",
    "%matplotlib inline"
   ]
  },
  {
   "cell_type": "code",
   "execution_count": 160,
   "id": "1e2e49ec-cd44-4300-80f7-798fc0eb1e08",
   "metadata": {},
   "outputs": [
    {
     "data": {
      "text/html": [
       "<div>\n",
       "<style scoped>\n",
       "    .dataframe tbody tr th:only-of-type {\n",
       "        vertical-align: middle;\n",
       "    }\n",
       "\n",
       "    .dataframe tbody tr th {\n",
       "        vertical-align: top;\n",
       "    }\n",
       "\n",
       "    .dataframe thead th {\n",
       "        text-align: right;\n",
       "    }\n",
       "</style>\n",
       "<table border=\"1\" class=\"dataframe\">\n",
       "  <thead>\n",
       "    <tr style=\"text-align: right;\">\n",
       "      <th></th>\n",
       "      <th>longitude</th>\n",
       "      <th>latitude</th>\n",
       "      <th>housing_median_age</th>\n",
       "      <th>total_rooms</th>\n",
       "      <th>total_bedrooms</th>\n",
       "      <th>population</th>\n",
       "      <th>households</th>\n",
       "      <th>median_income</th>\n",
       "      <th>median_house_value</th>\n",
       "      <th>ocean_proximity</th>\n",
       "    </tr>\n",
       "  </thead>\n",
       "  <tbody>\n",
       "    <tr>\n",
       "      <th>0</th>\n",
       "      <td>-122.23</td>\n",
       "      <td>37.88</td>\n",
       "      <td>41.0</td>\n",
       "      <td>880.0</td>\n",
       "      <td>129.0</td>\n",
       "      <td>322.0</td>\n",
       "      <td>126.0</td>\n",
       "      <td>8.3252</td>\n",
       "      <td>452600.0</td>\n",
       "      <td>NEAR BAY</td>\n",
       "    </tr>\n",
       "    <tr>\n",
       "      <th>1</th>\n",
       "      <td>-122.22</td>\n",
       "      <td>37.86</td>\n",
       "      <td>21.0</td>\n",
       "      <td>7099.0</td>\n",
       "      <td>1106.0</td>\n",
       "      <td>2401.0</td>\n",
       "      <td>1138.0</td>\n",
       "      <td>8.3014</td>\n",
       "      <td>358500.0</td>\n",
       "      <td>NEAR BAY</td>\n",
       "    </tr>\n",
       "    <tr>\n",
       "      <th>2</th>\n",
       "      <td>-122.24</td>\n",
       "      <td>37.85</td>\n",
       "      <td>52.0</td>\n",
       "      <td>1467.0</td>\n",
       "      <td>190.0</td>\n",
       "      <td>496.0</td>\n",
       "      <td>177.0</td>\n",
       "      <td>7.2574</td>\n",
       "      <td>352100.0</td>\n",
       "      <td>NEAR BAY</td>\n",
       "    </tr>\n",
       "    <tr>\n",
       "      <th>3</th>\n",
       "      <td>-122.25</td>\n",
       "      <td>37.85</td>\n",
       "      <td>52.0</td>\n",
       "      <td>1274.0</td>\n",
       "      <td>235.0</td>\n",
       "      <td>558.0</td>\n",
       "      <td>219.0</td>\n",
       "      <td>5.6431</td>\n",
       "      <td>341300.0</td>\n",
       "      <td>NEAR BAY</td>\n",
       "    </tr>\n",
       "    <tr>\n",
       "      <th>4</th>\n",
       "      <td>-122.25</td>\n",
       "      <td>37.85</td>\n",
       "      <td>52.0</td>\n",
       "      <td>1627.0</td>\n",
       "      <td>280.0</td>\n",
       "      <td>565.0</td>\n",
       "      <td>259.0</td>\n",
       "      <td>3.8462</td>\n",
       "      <td>342200.0</td>\n",
       "      <td>NEAR BAY</td>\n",
       "    </tr>\n",
       "  </tbody>\n",
       "</table>\n",
       "</div>"
      ],
      "text/plain": [
       "   longitude  latitude  housing_median_age  total_rooms  total_bedrooms  \\\n",
       "0    -122.23     37.88                41.0        880.0           129.0   \n",
       "1    -122.22     37.86                21.0       7099.0          1106.0   \n",
       "2    -122.24     37.85                52.0       1467.0           190.0   \n",
       "3    -122.25     37.85                52.0       1274.0           235.0   \n",
       "4    -122.25     37.85                52.0       1627.0           280.0   \n",
       "\n",
       "   population  households  median_income  median_house_value ocean_proximity  \n",
       "0       322.0       126.0         8.3252            452600.0        NEAR BAY  \n",
       "1      2401.0      1138.0         8.3014            358500.0        NEAR BAY  \n",
       "2       496.0       177.0         7.2574            352100.0        NEAR BAY  \n",
       "3       558.0       219.0         5.6431            341300.0        NEAR BAY  \n",
       "4       565.0       259.0         3.8462            342200.0        NEAR BAY  "
      ]
     },
     "execution_count": 160,
     "metadata": {},
     "output_type": "execute_result"
    }
   ],
   "source": [
    "#Dataset HOUSING\n",
    "\n",
    "df=pd.read_csv(\"housing.csv\")\n",
    "df.head()\n",
    "\n",
    "#The goal of this homework is to create a regression model for predicting housing prices (column 'median_house_value')."
   ]
  },
  {
   "cell_type": "code",
   "execution_count": 161,
   "id": "0b9ab7cb-ed23-4837-95bb-33ef0a9bbb29",
   "metadata": {},
   "outputs": [
    {
     "data": {
      "text/html": [
       "<div>\n",
       "<style scoped>\n",
       "    .dataframe tbody tr th:only-of-type {\n",
       "        vertical-align: middle;\n",
       "    }\n",
       "\n",
       "    .dataframe tbody tr th {\n",
       "        vertical-align: top;\n",
       "    }\n",
       "\n",
       "    .dataframe thead th {\n",
       "        text-align: right;\n",
       "    }\n",
       "</style>\n",
       "<table border=\"1\" class=\"dataframe\">\n",
       "  <thead>\n",
       "    <tr style=\"text-align: right;\">\n",
       "      <th></th>\n",
       "      <th>longitude</th>\n",
       "      <th>latitude</th>\n",
       "      <th>housing_median_age</th>\n",
       "      <th>total_rooms</th>\n",
       "      <th>total_bedrooms</th>\n",
       "      <th>population</th>\n",
       "      <th>households</th>\n",
       "      <th>median_income</th>\n",
       "      <th>median_house_value</th>\n",
       "    </tr>\n",
       "  </thead>\n",
       "  <tbody>\n",
       "    <tr>\n",
       "      <th>0</th>\n",
       "      <td>-122.23</td>\n",
       "      <td>37.88</td>\n",
       "      <td>41.0</td>\n",
       "      <td>880.0</td>\n",
       "      <td>129.0</td>\n",
       "      <td>322.0</td>\n",
       "      <td>126.0</td>\n",
       "      <td>8.3252</td>\n",
       "      <td>452600.0</td>\n",
       "    </tr>\n",
       "    <tr>\n",
       "      <th>1</th>\n",
       "      <td>-122.22</td>\n",
       "      <td>37.86</td>\n",
       "      <td>21.0</td>\n",
       "      <td>7099.0</td>\n",
       "      <td>1106.0</td>\n",
       "      <td>2401.0</td>\n",
       "      <td>1138.0</td>\n",
       "      <td>8.3014</td>\n",
       "      <td>358500.0</td>\n",
       "    </tr>\n",
       "    <tr>\n",
       "      <th>2</th>\n",
       "      <td>-122.24</td>\n",
       "      <td>37.85</td>\n",
       "      <td>52.0</td>\n",
       "      <td>1467.0</td>\n",
       "      <td>190.0</td>\n",
       "      <td>496.0</td>\n",
       "      <td>177.0</td>\n",
       "      <td>7.2574</td>\n",
       "      <td>352100.0</td>\n",
       "    </tr>\n",
       "    <tr>\n",
       "      <th>3</th>\n",
       "      <td>-122.25</td>\n",
       "      <td>37.85</td>\n",
       "      <td>52.0</td>\n",
       "      <td>1274.0</td>\n",
       "      <td>235.0</td>\n",
       "      <td>558.0</td>\n",
       "      <td>219.0</td>\n",
       "      <td>5.6431</td>\n",
       "      <td>341300.0</td>\n",
       "    </tr>\n",
       "    <tr>\n",
       "      <th>4</th>\n",
       "      <td>-122.25</td>\n",
       "      <td>37.85</td>\n",
       "      <td>52.0</td>\n",
       "      <td>1627.0</td>\n",
       "      <td>280.0</td>\n",
       "      <td>565.0</td>\n",
       "      <td>259.0</td>\n",
       "      <td>3.8462</td>\n",
       "      <td>342200.0</td>\n",
       "    </tr>\n",
       "    <tr>\n",
       "      <th>...</th>\n",
       "      <td>...</td>\n",
       "      <td>...</td>\n",
       "      <td>...</td>\n",
       "      <td>...</td>\n",
       "      <td>...</td>\n",
       "      <td>...</td>\n",
       "      <td>...</td>\n",
       "      <td>...</td>\n",
       "      <td>...</td>\n",
       "    </tr>\n",
       "    <tr>\n",
       "      <th>20635</th>\n",
       "      <td>-121.09</td>\n",
       "      <td>39.48</td>\n",
       "      <td>25.0</td>\n",
       "      <td>1665.0</td>\n",
       "      <td>374.0</td>\n",
       "      <td>845.0</td>\n",
       "      <td>330.0</td>\n",
       "      <td>1.5603</td>\n",
       "      <td>78100.0</td>\n",
       "    </tr>\n",
       "    <tr>\n",
       "      <th>20636</th>\n",
       "      <td>-121.21</td>\n",
       "      <td>39.49</td>\n",
       "      <td>18.0</td>\n",
       "      <td>697.0</td>\n",
       "      <td>150.0</td>\n",
       "      <td>356.0</td>\n",
       "      <td>114.0</td>\n",
       "      <td>2.5568</td>\n",
       "      <td>77100.0</td>\n",
       "    </tr>\n",
       "    <tr>\n",
       "      <th>20637</th>\n",
       "      <td>-121.22</td>\n",
       "      <td>39.43</td>\n",
       "      <td>17.0</td>\n",
       "      <td>2254.0</td>\n",
       "      <td>485.0</td>\n",
       "      <td>1007.0</td>\n",
       "      <td>433.0</td>\n",
       "      <td>1.7000</td>\n",
       "      <td>92300.0</td>\n",
       "    </tr>\n",
       "    <tr>\n",
       "      <th>20638</th>\n",
       "      <td>-121.32</td>\n",
       "      <td>39.43</td>\n",
       "      <td>18.0</td>\n",
       "      <td>1860.0</td>\n",
       "      <td>409.0</td>\n",
       "      <td>741.0</td>\n",
       "      <td>349.0</td>\n",
       "      <td>1.8672</td>\n",
       "      <td>84700.0</td>\n",
       "    </tr>\n",
       "    <tr>\n",
       "      <th>20639</th>\n",
       "      <td>-121.24</td>\n",
       "      <td>39.37</td>\n",
       "      <td>16.0</td>\n",
       "      <td>2785.0</td>\n",
       "      <td>616.0</td>\n",
       "      <td>1387.0</td>\n",
       "      <td>530.0</td>\n",
       "      <td>2.3886</td>\n",
       "      <td>89400.0</td>\n",
       "    </tr>\n",
       "  </tbody>\n",
       "</table>\n",
       "<p>20640 rows × 9 columns</p>\n",
       "</div>"
      ],
      "text/plain": [
       "       longitude  latitude  housing_median_age  total_rooms  total_bedrooms  \\\n",
       "0        -122.23     37.88                41.0        880.0           129.0   \n",
       "1        -122.22     37.86                21.0       7099.0          1106.0   \n",
       "2        -122.24     37.85                52.0       1467.0           190.0   \n",
       "3        -122.25     37.85                52.0       1274.0           235.0   \n",
       "4        -122.25     37.85                52.0       1627.0           280.0   \n",
       "...          ...       ...                 ...          ...             ...   \n",
       "20635    -121.09     39.48                25.0       1665.0           374.0   \n",
       "20636    -121.21     39.49                18.0        697.0           150.0   \n",
       "20637    -121.22     39.43                17.0       2254.0           485.0   \n",
       "20638    -121.32     39.43                18.0       1860.0           409.0   \n",
       "20639    -121.24     39.37                16.0       2785.0           616.0   \n",
       "\n",
       "       population  households  median_income  median_house_value  \n",
       "0           322.0       126.0         8.3252            452600.0  \n",
       "1          2401.0      1138.0         8.3014            358500.0  \n",
       "2           496.0       177.0         7.2574            352100.0  \n",
       "3           558.0       219.0         5.6431            341300.0  \n",
       "4           565.0       259.0         3.8462            342200.0  \n",
       "...           ...         ...            ...                 ...  \n",
       "20635       845.0       330.0         1.5603             78100.0  \n",
       "20636       356.0       114.0         2.5568             77100.0  \n",
       "20637      1007.0       433.0         1.7000             92300.0  \n",
       "20638       741.0       349.0         1.8672             84700.0  \n",
       "20639      1387.0       530.0         2.3886             89400.0  \n",
       "\n",
       "[20640 rows x 9 columns]"
      ]
     },
     "execution_count": 161,
     "metadata": {},
     "output_type": "execute_result"
    }
   ],
   "source": [
    "df_1=df[[\"longitude\",\"latitude\",\"housing_median_age\",\"total_rooms\",\"total_bedrooms\",\"population\",\n",
    "         \"households\",\"median_income\",\"median_house_value\"]]\n",
    "\n",
    "df_1"
   ]
  },
  {
   "cell_type": "code",
   "execution_count": 162,
   "id": "86d4ca52-8a83-4896-af13-57a6ae6b2dae",
   "metadata": {},
   "outputs": [
    {
     "data": {
      "text/plain": [
       "longitude             float64\n",
       "latitude              float64\n",
       "housing_median_age    float64\n",
       "total_rooms           float64\n",
       "total_bedrooms        float64\n",
       "population            float64\n",
       "households            float64\n",
       "median_income         float64\n",
       "median_house_value    float64\n",
       "dtype: object"
      ]
     },
     "execution_count": 162,
     "metadata": {},
     "output_type": "execute_result"
    }
   ],
   "source": [
    "df_1.dtypes #all parameters are float but ocean_proximity"
   ]
  },
  {
   "cell_type": "code",
   "execution_count": 163,
   "id": "e0f99aa7-95ae-43c1-94d0-3087162ac6d5",
   "metadata": {},
   "outputs": [
    {
     "data": {
      "text/plain": [
       "<AxesSubplot:xlabel='median_house_value', ylabel='Count'>"
      ]
     },
     "execution_count": 163,
     "metadata": {},
     "output_type": "execute_result"
    },
    {
     "data": {
      "image/png": "[encoded data removed]",
      "text/plain": [
       "<Figure size 640x480 with 1 Axes>"
      ]
     },
     "metadata": {},
     "output_type": "display_data"
    }
   ],
   "source": [
    "sns.histplot(df_1.median_house_value) #Hist based on median_house_value the variable that we have to predict"
   ]
  },
  {
   "cell_type": "code",
   "execution_count": 164,
   "id": "64e7990f-f89e-45bc-9dfc-48eeec8d8afa",
   "metadata": {},
   "outputs": [
    {
     "data": {
      "text/plain": [
       "<AxesSubplot:xlabel='median_house_value', ylabel='Count'>"
      ]
     },
     "execution_count": 164,
     "metadata": {},
     "output_type": "execute_result"
    },
    {
     "data": {
      "image/png": "[encoded data removed]",
      "text/plain": [
       "<Figure size 640x480 with 1 Axes>"
      ]
     },
     "metadata": {},
     "output_type": "display_data"
    }
   ],
   "source": [
    "#Normalization of the prices with LOG\n",
    "\n",
    "value_logs=np.log1p(df_1.median_house_value)\n",
    "value_logs\n",
    "sns.histplot(value_logs)"
   ]
  },
  {
   "cell_type": "code",
   "execution_count": 165,
   "id": "5d9a0956-5241-4aaa-8737-87a10832ab46",
   "metadata": {},
   "outputs": [
    {
     "data": {
      "text/plain": [
       "longitude               0\n",
       "latitude                0\n",
       "housing_median_age      0\n",
       "total_rooms             0\n",
       "total_bedrooms        207\n",
       "population              0\n",
       "households              0\n",
       "median_income           0\n",
       "median_house_value      0\n",
       "dtype: int64"
      ]
     },
     "execution_count": 165,
     "metadata": {},
     "output_type": "execute_result"
    }
   ],
   "source": [
    "#QUESTION 1: MISSING VALUES\n",
    "\n",
    "df_1.isnull().sum() #207 in total_bedrooms"
   ]
  },
  {
   "cell_type": "code",
   "execution_count": 166,
   "id": "e74bcd06-9273-4712-8131-1aee1b1f30da",
   "metadata": {},
   "outputs": [
    {
     "data": {
      "text/plain": [
       "1166.0"
      ]
     },
     "execution_count": 166,
     "metadata": {},
     "output_type": "execute_result"
    }
   ],
   "source": [
    "#QUESTION 2: MEDIAN OF POPULATION\n",
    "\n",
    "np.median(df_1.population) #median of population 1.166"
   ]
  },
  {
   "cell_type": "code",
   "execution_count": 167,
   "id": "ff71d0ff-7720-4d2f-a261-e8eb314be498",
   "metadata": {},
   "outputs": [
    {
     "data": {
      "text/plain": [
       "(4128, 4128, 12384)"
      ]
     },
     "execution_count": 167,
     "metadata": {},
     "output_type": "execute_result"
    }
   ],
   "source": [
    "#SPLIT THE DATA\n",
    "\n",
    "n = len(df_1)\n",
    "\n",
    "n_val=int(n*0.2)\n",
    "n_test=int(n*0.2)\n",
    "n_train=n-n_val-n_test\n",
    "\n",
    "n_val , n_test, n_train"
   ]
  },
  {
   "cell_type": "code",
   "execution_count": 168,
   "id": "50c185b5-b540-4358-b83f-a5f07e36f0ed",
   "metadata": {},
   "outputs": [
    {
     "data": {
      "text/plain": [
       "array([20046,  3024, 15663, ...,  5390,   860, 15795])"
      ]
     },
     "execution_count": 168,
     "metadata": {},
     "output_type": "execute_result"
    }
   ],
   "source": [
    "#SPLIT THE DATA\n",
    "#Datasets Idx random SEED 42\n",
    "\n",
    "idx=np.arange(n)\n",
    "np.random.seed(42)\n",
    "np.random.shuffle(idx)\n",
    "idx"
   ]
  },
  {
   "cell_type": "code",
   "execution_count": 169,
   "id": "7652c649-0d32-4a64-8307-c43ba4877b4a",
   "metadata": {},
   "outputs": [],
   "source": [
    "#SPLIT THE DATA\n",
    "#Dataframes\n",
    "\n",
    "df_train=df_1.iloc[idx[:n_train]]\n",
    "df_val=df_1.iloc[idx[n_train:n_train+n_val]]\n",
    "df_test=df_1.iloc[idx[n_train+n_val:]]\n"
   ]
  },
  {
   "cell_type": "code",
   "execution_count": 170,
   "id": "23a446af-2c90-4219-91e7-8c1a32a8acbe",
   "metadata": {},
   "outputs": [],
   "source": [
    "df_train=df_train.reset_index(drop=True)\n",
    "df_val=df_val.reset_index(drop=True)\n",
    "df_test=df_test.reset_index(drop=True)"
   ]
  },
  {
   "cell_type": "code",
   "execution_count": 171,
   "id": "be9514e4-9324-4e12-81dc-f5a38b6c2217",
   "metadata": {},
   "outputs": [
    {
     "data": {
      "text/html": [
       "<div>\n",
       "<style scoped>\n",
       "    .dataframe tbody tr th:only-of-type {\n",
       "        vertical-align: middle;\n",
       "    }\n",
       "\n",
       "    .dataframe tbody tr th {\n",
       "        vertical-align: top;\n",
       "    }\n",
       "\n",
       "    .dataframe thead th {\n",
       "        text-align: right;\n",
       "    }\n",
       "</style>\n",
       "<table border=\"1\" class=\"dataframe\">\n",
       "  <thead>\n",
       "    <tr style=\"text-align: right;\">\n",
       "      <th></th>\n",
       "      <th>longitude</th>\n",
       "      <th>latitude</th>\n",
       "      <th>housing_median_age</th>\n",
       "      <th>total_rooms</th>\n",
       "      <th>total_bedrooms</th>\n",
       "      <th>population</th>\n",
       "      <th>households</th>\n",
       "      <th>median_income</th>\n",
       "      <th>median_house_value</th>\n",
       "    </tr>\n",
       "  </thead>\n",
       "  <tbody>\n",
       "    <tr>\n",
       "      <th>0</th>\n",
       "      <td>-119.01</td>\n",
       "      <td>36.06</td>\n",
       "      <td>25.0</td>\n",
       "      <td>1505.0</td>\n",
       "      <td>NaN</td>\n",
       "      <td>1392.0</td>\n",
       "      <td>359.0</td>\n",
       "      <td>1.6812</td>\n",
       "      <td>47700.0</td>\n",
       "    </tr>\n",
       "    <tr>\n",
       "      <th>1</th>\n",
       "      <td>-119.46</td>\n",
       "      <td>35.14</td>\n",
       "      <td>30.0</td>\n",
       "      <td>2943.0</td>\n",
       "      <td>NaN</td>\n",
       "      <td>1565.0</td>\n",
       "      <td>584.0</td>\n",
       "      <td>2.5313</td>\n",
       "      <td>45800.0</td>\n",
       "    </tr>\n",
       "    <tr>\n",
       "      <th>2</th>\n",
       "      <td>-122.44</td>\n",
       "      <td>37.80</td>\n",
       "      <td>52.0</td>\n",
       "      <td>3830.0</td>\n",
       "      <td>NaN</td>\n",
       "      <td>1310.0</td>\n",
       "      <td>963.0</td>\n",
       "      <td>3.4801</td>\n",
       "      <td>500001.0</td>\n",
       "    </tr>\n",
       "    <tr>\n",
       "      <th>3</th>\n",
       "      <td>-118.72</td>\n",
       "      <td>34.28</td>\n",
       "      <td>17.0</td>\n",
       "      <td>3051.0</td>\n",
       "      <td>NaN</td>\n",
       "      <td>1705.0</td>\n",
       "      <td>495.0</td>\n",
       "      <td>5.7376</td>\n",
       "      <td>218600.0</td>\n",
       "    </tr>\n",
       "    <tr>\n",
       "      <th>4</th>\n",
       "      <td>-121.93</td>\n",
       "      <td>36.62</td>\n",
       "      <td>34.0</td>\n",
       "      <td>2351.0</td>\n",
       "      <td>NaN</td>\n",
       "      <td>1063.0</td>\n",
       "      <td>428.0</td>\n",
       "      <td>3.7250</td>\n",
       "      <td>278000.0</td>\n",
       "    </tr>\n",
       "  </tbody>\n",
       "</table>\n",
       "</div>"
      ],
      "text/plain": [
       "   longitude  latitude  housing_median_age  total_rooms  total_bedrooms  \\\n",
       "0    -119.01     36.06                25.0       1505.0             NaN   \n",
       "1    -119.46     35.14                30.0       2943.0             NaN   \n",
       "2    -122.44     37.80                52.0       3830.0             NaN   \n",
       "3    -118.72     34.28                17.0       3051.0             NaN   \n",
       "4    -121.93     36.62                34.0       2351.0             NaN   \n",
       "\n",
       "   population  households  median_income  median_house_value  \n",
       "0      1392.0       359.0         1.6812             47700.0  \n",
       "1      1565.0       584.0         2.5313             45800.0  \n",
       "2      1310.0       963.0         3.4801            500001.0  \n",
       "3      1705.0       495.0         5.7376            218600.0  \n",
       "4      1063.0       428.0         3.7250            278000.0  "
      ]
     },
     "execution_count": 171,
     "metadata": {},
     "output_type": "execute_result"
    }
   ],
   "source": [
    "df_train.head()"
   ]
  },
  {
   "cell_type": "code",
   "execution_count": 172,
   "id": "f873fc9f-f0e6-499b-824a-2e2c145c0dee",
   "metadata": {},
   "outputs": [
    {
     "data": {
      "text/html": [
       "<div>\n",
       "<style scoped>\n",
       "    .dataframe tbody tr th:only-of-type {\n",
       "        vertical-align: middle;\n",
       "    }\n",
       "\n",
       "    .dataframe tbody tr th {\n",
       "        vertical-align: top;\n",
       "    }\n",
       "\n",
       "    .dataframe thead th {\n",
       "        text-align: right;\n",
       "    }\n",
       "</style>\n",
       "<table border=\"1\" class=\"dataframe\">\n",
       "  <thead>\n",
       "    <tr style=\"text-align: right;\">\n",
       "      <th></th>\n",
       "      <th>longitude</th>\n",
       "      <th>latitude</th>\n",
       "      <th>housing_median_age</th>\n",
       "      <th>total_rooms</th>\n",
       "      <th>total_bedrooms</th>\n",
       "      <th>population</th>\n",
       "      <th>households</th>\n",
       "      <th>median_income</th>\n",
       "      <th>median_house_value</th>\n",
       "    </tr>\n",
       "  </thead>\n",
       "  <tbody>\n",
       "    <tr>\n",
       "      <th>0</th>\n",
       "      <td>-120.85</td>\n",
       "      <td>37.51</td>\n",
       "      <td>15.0</td>\n",
       "      <td>1131.0</td>\n",
       "      <td>285.0</td>\n",
       "      <td>728.0</td>\n",
       "      <td>281.0</td>\n",
       "      <td>1.5531</td>\n",
       "      <td>93100.0</td>\n",
       "    </tr>\n",
       "    <tr>\n",
       "      <th>1</th>\n",
       "      <td>-118.25</td>\n",
       "      <td>34.09</td>\n",
       "      <td>52.0</td>\n",
       "      <td>1866.0</td>\n",
       "      <td>470.0</td>\n",
       "      <td>1211.0</td>\n",
       "      <td>417.0</td>\n",
       "      <td>2.9350</td>\n",
       "      <td>189400.0</td>\n",
       "    </tr>\n",
       "    <tr>\n",
       "      <th>2</th>\n",
       "      <td>-122.02</td>\n",
       "      <td>37.31</td>\n",
       "      <td>34.0</td>\n",
       "      <td>2629.0</td>\n",
       "      <td>433.0</td>\n",
       "      <td>1301.0</td>\n",
       "      <td>431.0</td>\n",
       "      <td>6.0830</td>\n",
       "      <td>341400.0</td>\n",
       "    </tr>\n",
       "    <tr>\n",
       "      <th>3</th>\n",
       "      <td>-121.88</td>\n",
       "      <td>37.30</td>\n",
       "      <td>16.0</td>\n",
       "      <td>2692.0</td>\n",
       "      <td>749.0</td>\n",
       "      <td>1674.0</td>\n",
       "      <td>681.0</td>\n",
       "      <td>2.6763</td>\n",
       "      <td>191100.0</td>\n",
       "    </tr>\n",
       "    <tr>\n",
       "      <th>4</th>\n",
       "      <td>-122.27</td>\n",
       "      <td>37.56</td>\n",
       "      <td>17.0</td>\n",
       "      <td>3211.0</td>\n",
       "      <td>847.0</td>\n",
       "      <td>1553.0</td>\n",
       "      <td>812.0</td>\n",
       "      <td>4.9434</td>\n",
       "      <td>292100.0</td>\n",
       "    </tr>\n",
       "  </tbody>\n",
       "</table>\n",
       "</div>"
      ],
      "text/plain": [
       "   longitude  latitude  housing_median_age  total_rooms  total_bedrooms  \\\n",
       "0    -120.85     37.51                15.0       1131.0           285.0   \n",
       "1    -118.25     34.09                52.0       1866.0           470.0   \n",
       "2    -122.02     37.31                34.0       2629.0           433.0   \n",
       "3    -121.88     37.30                16.0       2692.0           749.0   \n",
       "4    -122.27     37.56                17.0       3211.0           847.0   \n",
       "\n",
       "   population  households  median_income  median_house_value  \n",
       "0       728.0       281.0         1.5531             93100.0  \n",
       "1      1211.0       417.0         2.9350            189400.0  \n",
       "2      1301.0       431.0         6.0830            341400.0  \n",
       "3      1674.0       681.0         2.6763            191100.0  \n",
       "4      1553.0       812.0         4.9434            292100.0  "
      ]
     },
     "execution_count": 172,
     "metadata": {},
     "output_type": "execute_result"
    }
   ],
   "source": [
    "df_val.head()"
   ]
  },
  {
   "cell_type": "code",
   "execution_count": 173,
   "id": "1b98f5cd-382c-454d-8d6f-8d1feb2e15da",
   "metadata": {},
   "outputs": [
    {
     "data": {
      "text/html": [
       "<div>\n",
       "<style scoped>\n",
       "    .dataframe tbody tr th:only-of-type {\n",
       "        vertical-align: middle;\n",
       "    }\n",
       "\n",
       "    .dataframe tbody tr th {\n",
       "        vertical-align: top;\n",
       "    }\n",
       "\n",
       "    .dataframe thead th {\n",
       "        text-align: right;\n",
       "    }\n",
       "</style>\n",
       "<table border=\"1\" class=\"dataframe\">\n",
       "  <thead>\n",
       "    <tr style=\"text-align: right;\">\n",
       "      <th></th>\n",
       "      <th>longitude</th>\n",
       "      <th>latitude</th>\n",
       "      <th>housing_median_age</th>\n",
       "      <th>total_rooms</th>\n",
       "      <th>total_bedrooms</th>\n",
       "      <th>population</th>\n",
       "      <th>households</th>\n",
       "      <th>median_income</th>\n",
       "      <th>median_house_value</th>\n",
       "    </tr>\n",
       "  </thead>\n",
       "  <tbody>\n",
       "    <tr>\n",
       "      <th>0</th>\n",
       "      <td>-120.26</td>\n",
       "      <td>37.13</td>\n",
       "      <td>33.0</td>\n",
       "      <td>1239.0</td>\n",
       "      <td>250.0</td>\n",
       "      <td>648.0</td>\n",
       "      <td>227.0</td>\n",
       "      <td>2.0278</td>\n",
       "      <td>58800.0</td>\n",
       "    </tr>\n",
       "    <tr>\n",
       "      <th>1</th>\n",
       "      <td>-117.91</td>\n",
       "      <td>33.86</td>\n",
       "      <td>26.0</td>\n",
       "      <td>2296.0</td>\n",
       "      <td>570.0</td>\n",
       "      <td>1415.0</td>\n",
       "      <td>527.0</td>\n",
       "      <td>2.4732</td>\n",
       "      <td>165800.0</td>\n",
       "    </tr>\n",
       "    <tr>\n",
       "      <th>2</th>\n",
       "      <td>-118.36</td>\n",
       "      <td>34.04</td>\n",
       "      <td>48.0</td>\n",
       "      <td>1769.0</td>\n",
       "      <td>429.0</td>\n",
       "      <td>993.0</td>\n",
       "      <td>405.0</td>\n",
       "      <td>2.3214</td>\n",
       "      <td>139400.0</td>\n",
       "    </tr>\n",
       "    <tr>\n",
       "      <th>3</th>\n",
       "      <td>-118.15</td>\n",
       "      <td>34.69</td>\n",
       "      <td>32.0</td>\n",
       "      <td>1300.0</td>\n",
       "      <td>234.0</td>\n",
       "      <td>712.0</td>\n",
       "      <td>249.0</td>\n",
       "      <td>3.2500</td>\n",
       "      <td>107500.0</td>\n",
       "    </tr>\n",
       "    <tr>\n",
       "      <th>4</th>\n",
       "      <td>-119.97</td>\n",
       "      <td>38.93</td>\n",
       "      <td>24.0</td>\n",
       "      <td>856.0</td>\n",
       "      <td>185.0</td>\n",
       "      <td>388.0</td>\n",
       "      <td>108.0</td>\n",
       "      <td>3.1806</td>\n",
       "      <td>107200.0</td>\n",
       "    </tr>\n",
       "  </tbody>\n",
       "</table>\n",
       "</div>"
      ],
      "text/plain": [
       "   longitude  latitude  housing_median_age  total_rooms  total_bedrooms  \\\n",
       "0    -120.26     37.13                33.0       1239.0           250.0   \n",
       "1    -117.91     33.86                26.0       2296.0           570.0   \n",
       "2    -118.36     34.04                48.0       1769.0           429.0   \n",
       "3    -118.15     34.69                32.0       1300.0           234.0   \n",
       "4    -119.97     38.93                24.0        856.0           185.0   \n",
       "\n",
       "   population  households  median_income  median_house_value  \n",
       "0       648.0       227.0         2.0278             58800.0  \n",
       "1      1415.0       527.0         2.4732            165800.0  \n",
       "2       993.0       405.0         2.3214            139400.0  \n",
       "3       712.0       249.0         3.2500            107500.0  \n",
       "4       388.0       108.0         3.1806            107200.0  "
      ]
     },
     "execution_count": 173,
     "metadata": {},
     "output_type": "execute_result"
    }
   ],
   "source": [
    "df_test.head()"
   ]
  },
  {
   "cell_type": "code",
   "execution_count": 174,
   "id": "b19324a0-21ba-4cae-834b-0ae60ad41eeb",
   "metadata": {},
   "outputs": [],
   "source": [
    "#Log price\n",
    "\n",
    "y_train=np.log1p(df_train.median_house_value.values)\n",
    "y_val=np.log1p(df_val.median_house_value.values)\n",
    "y_test=np.log1p(df_test.median_house_value.values)"
   ]
  },
  {
   "cell_type": "code",
   "execution_count": 175,
   "id": "77e03e9b-bb2c-486a-8555-f86c05eb5db2",
   "metadata": {},
   "outputs": [],
   "source": [
    "#Target value ('median_house_value') is not in your dataframe\n",
    "\n",
    "del df_train[\"median_house_value\"]\n",
    "del df_val[\"median_house_value\"]\n",
    "del df_test[\"median_house_value\"]"
   ]
  },
  {
   "cell_type": "code",
   "execution_count": 176,
   "id": "dca8f187-8951-4223-a413-a9f7cf3eeed8",
   "metadata": {},
   "outputs": [
    {
     "data": {
      "text/html": [
       "<div>\n",
       "<style scoped>\n",
       "    .dataframe tbody tr th:only-of-type {\n",
       "        vertical-align: middle;\n",
       "    }\n",
       "\n",
       "    .dataframe tbody tr th {\n",
       "        vertical-align: top;\n",
       "    }\n",
       "\n",
       "    .dataframe thead th {\n",
       "        text-align: right;\n",
       "    }\n",
       "</style>\n",
       "<table border=\"1\" class=\"dataframe\">\n",
       "  <thead>\n",
       "    <tr style=\"text-align: right;\">\n",
       "      <th></th>\n",
       "      <th>longitude</th>\n",
       "      <th>latitude</th>\n",
       "      <th>housing_median_age</th>\n",
       "      <th>total_rooms</th>\n",
       "      <th>total_bedrooms</th>\n",
       "      <th>population</th>\n",
       "      <th>households</th>\n",
       "      <th>median_income</th>\n",
       "    </tr>\n",
       "  </thead>\n",
       "  <tbody>\n",
       "    <tr>\n",
       "      <th>0</th>\n",
       "      <td>-119.01</td>\n",
       "      <td>36.06</td>\n",
       "      <td>25.0</td>\n",
       "      <td>1505.0</td>\n",
       "      <td>NaN</td>\n",
       "      <td>1392.0</td>\n",
       "      <td>359.0</td>\n",
       "      <td>1.6812</td>\n",
       "    </tr>\n",
       "    <tr>\n",
       "      <th>1</th>\n",
       "      <td>-119.46</td>\n",
       "      <td>35.14</td>\n",
       "      <td>30.0</td>\n",
       "      <td>2943.0</td>\n",
       "      <td>NaN</td>\n",
       "      <td>1565.0</td>\n",
       "      <td>584.0</td>\n",
       "      <td>2.5313</td>\n",
       "    </tr>\n",
       "    <tr>\n",
       "      <th>2</th>\n",
       "      <td>-122.44</td>\n",
       "      <td>37.80</td>\n",
       "      <td>52.0</td>\n",
       "      <td>3830.0</td>\n",
       "      <td>NaN</td>\n",
       "      <td>1310.0</td>\n",
       "      <td>963.0</td>\n",
       "      <td>3.4801</td>\n",
       "    </tr>\n",
       "    <tr>\n",
       "      <th>3</th>\n",
       "      <td>-118.72</td>\n",
       "      <td>34.28</td>\n",
       "      <td>17.0</td>\n",
       "      <td>3051.0</td>\n",
       "      <td>NaN</td>\n",
       "      <td>1705.0</td>\n",
       "      <td>495.0</td>\n",
       "      <td>5.7376</td>\n",
       "    </tr>\n",
       "    <tr>\n",
       "      <th>4</th>\n",
       "      <td>-121.93</td>\n",
       "      <td>36.62</td>\n",
       "      <td>34.0</td>\n",
       "      <td>2351.0</td>\n",
       "      <td>NaN</td>\n",
       "      <td>1063.0</td>\n",
       "      <td>428.0</td>\n",
       "      <td>3.7250</td>\n",
       "    </tr>\n",
       "  </tbody>\n",
       "</table>\n",
       "</div>"
      ],
      "text/plain": [
       "   longitude  latitude  housing_median_age  total_rooms  total_bedrooms  \\\n",
       "0    -119.01     36.06                25.0       1505.0             NaN   \n",
       "1    -119.46     35.14                30.0       2943.0             NaN   \n",
       "2    -122.44     37.80                52.0       3830.0             NaN   \n",
       "3    -118.72     34.28                17.0       3051.0             NaN   \n",
       "4    -121.93     36.62                34.0       2351.0             NaN   \n",
       "\n",
       "   population  households  median_income  \n",
       "0      1392.0       359.0         1.6812  \n",
       "1      1565.0       584.0         2.5313  \n",
       "2      1310.0       963.0         3.4801  \n",
       "3      1705.0       495.0         5.7376  \n",
       "4      1063.0       428.0         3.7250  "
      ]
     },
     "execution_count": 176,
     "metadata": {},
     "output_type": "execute_result"
    }
   ],
   "source": [
    "df_train.head()"
   ]
  },
  {
   "cell_type": "code",
   "execution_count": 177,
   "id": "9972a938-1ffd-4832-89ef-603a57a67076",
   "metadata": {},
   "outputs": [
    {
     "data": {
      "text/html": [
       "<div>\n",
       "<style scoped>\n",
       "    .dataframe tbody tr th:only-of-type {\n",
       "        vertical-align: middle;\n",
       "    }\n",
       "\n",
       "    .dataframe tbody tr th {\n",
       "        vertical-align: top;\n",
       "    }\n",
       "\n",
       "    .dataframe thead th {\n",
       "        text-align: right;\n",
       "    }\n",
       "</style>\n",
       "<table border=\"1\" class=\"dataframe\">\n",
       "  <thead>\n",
       "    <tr style=\"text-align: right;\">\n",
       "      <th></th>\n",
       "      <th>longitude</th>\n",
       "      <th>latitude</th>\n",
       "      <th>housing_median_age</th>\n",
       "      <th>total_rooms</th>\n",
       "      <th>total_bedrooms</th>\n",
       "      <th>population</th>\n",
       "      <th>households</th>\n",
       "      <th>median_income</th>\n",
       "    </tr>\n",
       "  </thead>\n",
       "  <tbody>\n",
       "    <tr>\n",
       "      <th>0</th>\n",
       "      <td>-120.85</td>\n",
       "      <td>37.51</td>\n",
       "      <td>15.0</td>\n",
       "      <td>1131.0</td>\n",
       "      <td>285.0</td>\n",
       "      <td>728.0</td>\n",
       "      <td>281.0</td>\n",
       "      <td>1.5531</td>\n",
       "    </tr>\n",
       "    <tr>\n",
       "      <th>1</th>\n",
       "      <td>-118.25</td>\n",
       "      <td>34.09</td>\n",
       "      <td>52.0</td>\n",
       "      <td>1866.0</td>\n",
       "      <td>470.0</td>\n",
       "      <td>1211.0</td>\n",
       "      <td>417.0</td>\n",
       "      <td>2.9350</td>\n",
       "    </tr>\n",
       "    <tr>\n",
       "      <th>2</th>\n",
       "      <td>-122.02</td>\n",
       "      <td>37.31</td>\n",
       "      <td>34.0</td>\n",
       "      <td>2629.0</td>\n",
       "      <td>433.0</td>\n",
       "      <td>1301.0</td>\n",
       "      <td>431.0</td>\n",
       "      <td>6.0830</td>\n",
       "    </tr>\n",
       "    <tr>\n",
       "      <th>3</th>\n",
       "      <td>-121.88</td>\n",
       "      <td>37.30</td>\n",
       "      <td>16.0</td>\n",
       "      <td>2692.0</td>\n",
       "      <td>749.0</td>\n",
       "      <td>1674.0</td>\n",
       "      <td>681.0</td>\n",
       "      <td>2.6763</td>\n",
       "    </tr>\n",
       "    <tr>\n",
       "      <th>4</th>\n",
       "      <td>-122.27</td>\n",
       "      <td>37.56</td>\n",
       "      <td>17.0</td>\n",
       "      <td>3211.0</td>\n",
       "      <td>847.0</td>\n",
       "      <td>1553.0</td>\n",
       "      <td>812.0</td>\n",
       "      <td>4.9434</td>\n",
       "    </tr>\n",
       "  </tbody>\n",
       "</table>\n",
       "</div>"
      ],
      "text/plain": [
       "   longitude  latitude  housing_median_age  total_rooms  total_bedrooms  \\\n",
       "0    -120.85     37.51                15.0       1131.0           285.0   \n",
       "1    -118.25     34.09                52.0       1866.0           470.0   \n",
       "2    -122.02     37.31                34.0       2629.0           433.0   \n",
       "3    -121.88     37.30                16.0       2692.0           749.0   \n",
       "4    -122.27     37.56                17.0       3211.0           847.0   \n",
       "\n",
       "   population  households  median_income  \n",
       "0       728.0       281.0         1.5531  \n",
       "1      1211.0       417.0         2.9350  \n",
       "2      1301.0       431.0         6.0830  \n",
       "3      1674.0       681.0         2.6763  \n",
       "4      1553.0       812.0         4.9434  "
      ]
     },
     "execution_count": 177,
     "metadata": {},
     "output_type": "execute_result"
    }
   ],
   "source": [
    "df_val.head()"
   ]
  },
  {
   "cell_type": "code",
   "execution_count": 178,
   "id": "c05bb08f-9c18-4667-af4b-7aff9a427501",
   "metadata": {},
   "outputs": [
    {
     "data": {
      "text/html": [
       "<div>\n",
       "<style scoped>\n",
       "    .dataframe tbody tr th:only-of-type {\n",
       "        vertical-align: middle;\n",
       "    }\n",
       "\n",
       "    .dataframe tbody tr th {\n",
       "        vertical-align: top;\n",
       "    }\n",
       "\n",
       "    .dataframe thead th {\n",
       "        text-align: right;\n",
       "    }\n",
       "</style>\n",
       "<table border=\"1\" class=\"dataframe\">\n",
       "  <thead>\n",
       "    <tr style=\"text-align: right;\">\n",
       "      <th></th>\n",
       "      <th>longitude</th>\n",
       "      <th>latitude</th>\n",
       "      <th>housing_median_age</th>\n",
       "      <th>total_rooms</th>\n",
       "      <th>total_bedrooms</th>\n",
       "      <th>population</th>\n",
       "      <th>households</th>\n",
       "      <th>median_income</th>\n",
       "    </tr>\n",
       "  </thead>\n",
       "  <tbody>\n",
       "    <tr>\n",
       "      <th>0</th>\n",
       "      <td>-120.26</td>\n",
       "      <td>37.13</td>\n",
       "      <td>33.0</td>\n",
       "      <td>1239.0</td>\n",
       "      <td>250.0</td>\n",
       "      <td>648.0</td>\n",
       "      <td>227.0</td>\n",
       "      <td>2.0278</td>\n",
       "    </tr>\n",
       "    <tr>\n",
       "      <th>1</th>\n",
       "      <td>-117.91</td>\n",
       "      <td>33.86</td>\n",
       "      <td>26.0</td>\n",
       "      <td>2296.0</td>\n",
       "      <td>570.0</td>\n",
       "      <td>1415.0</td>\n",
       "      <td>527.0</td>\n",
       "      <td>2.4732</td>\n",
       "    </tr>\n",
       "    <tr>\n",
       "      <th>2</th>\n",
       "      <td>-118.36</td>\n",
       "      <td>34.04</td>\n",
       "      <td>48.0</td>\n",
       "      <td>1769.0</td>\n",
       "      <td>429.0</td>\n",
       "      <td>993.0</td>\n",
       "      <td>405.0</td>\n",
       "      <td>2.3214</td>\n",
       "    </tr>\n",
       "    <tr>\n",
       "      <th>3</th>\n",
       "      <td>-118.15</td>\n",
       "      <td>34.69</td>\n",
       "      <td>32.0</td>\n",
       "      <td>1300.0</td>\n",
       "      <td>234.0</td>\n",
       "      <td>712.0</td>\n",
       "      <td>249.0</td>\n",
       "      <td>3.2500</td>\n",
       "    </tr>\n",
       "    <tr>\n",
       "      <th>4</th>\n",
       "      <td>-119.97</td>\n",
       "      <td>38.93</td>\n",
       "      <td>24.0</td>\n",
       "      <td>856.0</td>\n",
       "      <td>185.0</td>\n",
       "      <td>388.0</td>\n",
       "      <td>108.0</td>\n",
       "      <td>3.1806</td>\n",
       "    </tr>\n",
       "  </tbody>\n",
       "</table>\n",
       "</div>"
      ],
      "text/plain": [
       "   longitude  latitude  housing_median_age  total_rooms  total_bedrooms  \\\n",
       "0    -120.26     37.13                33.0       1239.0           250.0   \n",
       "1    -117.91     33.86                26.0       2296.0           570.0   \n",
       "2    -118.36     34.04                48.0       1769.0           429.0   \n",
       "3    -118.15     34.69                32.0       1300.0           234.0   \n",
       "4    -119.97     38.93                24.0        856.0           185.0   \n",
       "\n",
       "   population  households  median_income  \n",
       "0       648.0       227.0         2.0278  \n",
       "1      1415.0       527.0         2.4732  \n",
       "2       993.0       405.0         2.3214  \n",
       "3       712.0       249.0         3.2500  \n",
       "4       388.0       108.0         3.1806  "
      ]
     },
     "execution_count": 178,
     "metadata": {},
     "output_type": "execute_result"
    }
   ],
   "source": [
    "df_test.head()"
   ]
  },
  {
   "cell_type": "code",
   "execution_count": 179,
   "id": "641670a2-d8fd-4f2d-8389-916e3746959b",
   "metadata": {},
   "outputs": [
    {
     "data": {
      "text/plain": [
       "array([10.77270764, 10.7320612 , 13.12236738, ..., 11.89683321,\n",
       "       11.93032573, 12.9487264 ])"
      ]
     },
     "execution_count": 179,
     "metadata": {},
     "output_type": "execute_result"
    }
   ],
   "source": [
    "y_train"
   ]
  },
  {
   "cell_type": "code",
   "execution_count": 180,
   "id": "ed6fadaf-3fa5-4577-9d92-334dd36b7ae0",
   "metadata": {},
   "outputs": [
    {
     "data": {
      "text/plain": [
       "array([11.4414402 , 12.15162174, 12.74081302, ..., 11.87965667,\n",
       "       11.9492495 , 11.97540713])"
      ]
     },
     "execution_count": 180,
     "metadata": {},
     "output_type": "execute_result"
    }
   ],
   "source": [
    "y_val"
   ]
  },
  {
   "cell_type": "code",
   "execution_count": 181,
   "id": "0ffd3362-3ccc-4d1d-b834-4319a2f22b70",
   "metadata": {},
   "outputs": [
    {
     "data": {
      "text/plain": [
       "array([10.98191414, 12.01854355, 11.84510995, ..., 12.31088751,\n",
       "       12.55497093, 12.69158354])"
      ]
     },
     "execution_count": 181,
     "metadata": {},
     "output_type": "execute_result"
    }
   ],
   "source": [
    "y_test"
   ]
  },
  {
   "cell_type": "code",
   "execution_count": 182,
   "id": "f2f5f88b-9097-4b6a-afec-02b0b0743d15",
   "metadata": {},
   "outputs": [
    {
     "data": {
      "text/html": [
       "<div>\n",
       "<style scoped>\n",
       "    .dataframe tbody tr th:only-of-type {\n",
       "        vertical-align: middle;\n",
       "    }\n",
       "\n",
       "    .dataframe tbody tr th {\n",
       "        vertical-align: top;\n",
       "    }\n",
       "\n",
       "    .dataframe thead th {\n",
       "        text-align: right;\n",
       "    }\n",
       "</style>\n",
       "<table border=\"1\" class=\"dataframe\">\n",
       "  <thead>\n",
       "    <tr style=\"text-align: right;\">\n",
       "      <th></th>\n",
       "      <th>longitude</th>\n",
       "      <th>latitude</th>\n",
       "      <th>housing_median_age</th>\n",
       "      <th>total_rooms</th>\n",
       "      <th>total_bedrooms</th>\n",
       "      <th>population</th>\n",
       "      <th>households</th>\n",
       "      <th>median_income</th>\n",
       "    </tr>\n",
       "  </thead>\n",
       "  <tbody>\n",
       "    <tr>\n",
       "      <th>0</th>\n",
       "      <td>-119.01</td>\n",
       "      <td>36.06</td>\n",
       "      <td>25.0</td>\n",
       "      <td>1505.0</td>\n",
       "      <td>NaN</td>\n",
       "      <td>1392.0</td>\n",
       "      <td>359.0</td>\n",
       "      <td>1.6812</td>\n",
       "    </tr>\n",
       "    <tr>\n",
       "      <th>1</th>\n",
       "      <td>-119.46</td>\n",
       "      <td>35.14</td>\n",
       "      <td>30.0</td>\n",
       "      <td>2943.0</td>\n",
       "      <td>NaN</td>\n",
       "      <td>1565.0</td>\n",
       "      <td>584.0</td>\n",
       "      <td>2.5313</td>\n",
       "    </tr>\n",
       "    <tr>\n",
       "      <th>2</th>\n",
       "      <td>-122.44</td>\n",
       "      <td>37.80</td>\n",
       "      <td>52.0</td>\n",
       "      <td>3830.0</td>\n",
       "      <td>NaN</td>\n",
       "      <td>1310.0</td>\n",
       "      <td>963.0</td>\n",
       "      <td>3.4801</td>\n",
       "    </tr>\n",
       "    <tr>\n",
       "      <th>3</th>\n",
       "      <td>-118.72</td>\n",
       "      <td>34.28</td>\n",
       "      <td>17.0</td>\n",
       "      <td>3051.0</td>\n",
       "      <td>NaN</td>\n",
       "      <td>1705.0</td>\n",
       "      <td>495.0</td>\n",
       "      <td>5.7376</td>\n",
       "    </tr>\n",
       "    <tr>\n",
       "      <th>4</th>\n",
       "      <td>-121.93</td>\n",
       "      <td>36.62</td>\n",
       "      <td>34.0</td>\n",
       "      <td>2351.0</td>\n",
       "      <td>NaN</td>\n",
       "      <td>1063.0</td>\n",
       "      <td>428.0</td>\n",
       "      <td>3.7250</td>\n",
       "    </tr>\n",
       "    <tr>\n",
       "      <th>...</th>\n",
       "      <td>...</td>\n",
       "      <td>...</td>\n",
       "      <td>...</td>\n",
       "      <td>...</td>\n",
       "      <td>...</td>\n",
       "      <td>...</td>\n",
       "      <td>...</td>\n",
       "      <td>...</td>\n",
       "    </tr>\n",
       "    <tr>\n",
       "      <th>12379</th>\n",
       "      <td>-117.81</td>\n",
       "      <td>33.88</td>\n",
       "      <td>19.0</td>\n",
       "      <td>2265.0</td>\n",
       "      <td>283.0</td>\n",
       "      <td>904.0</td>\n",
       "      <td>279.0</td>\n",
       "      <td>9.2327</td>\n",
       "    </tr>\n",
       "    <tr>\n",
       "      <th>12380</th>\n",
       "      <td>-120.68</td>\n",
       "      <td>35.48</td>\n",
       "      <td>15.0</td>\n",
       "      <td>2608.0</td>\n",
       "      <td>525.0</td>\n",
       "      <td>1351.0</td>\n",
       "      <td>502.0</td>\n",
       "      <td>2.7798</td>\n",
       "    </tr>\n",
       "    <tr>\n",
       "      <th>12381</th>\n",
       "      <td>-120.91</td>\n",
       "      <td>38.98</td>\n",
       "      <td>13.0</td>\n",
       "      <td>7689.0</td>\n",
       "      <td>1415.0</td>\n",
       "      <td>3264.0</td>\n",
       "      <td>1198.0</td>\n",
       "      <td>3.6530</td>\n",
       "    </tr>\n",
       "    <tr>\n",
       "      <th>12382</th>\n",
       "      <td>-117.72</td>\n",
       "      <td>34.09</td>\n",
       "      <td>36.0</td>\n",
       "      <td>1473.0</td>\n",
       "      <td>328.0</td>\n",
       "      <td>785.0</td>\n",
       "      <td>299.0</td>\n",
       "      <td>3.2566</td>\n",
       "    </tr>\n",
       "    <tr>\n",
       "      <th>12383</th>\n",
       "      <td>-122.47</td>\n",
       "      <td>37.76</td>\n",
       "      <td>34.0</td>\n",
       "      <td>2807.0</td>\n",
       "      <td>487.0</td>\n",
       "      <td>1152.0</td>\n",
       "      <td>445.0</td>\n",
       "      <td>5.1893</td>\n",
       "    </tr>\n",
       "  </tbody>\n",
       "</table>\n",
       "<p>12384 rows × 8 columns</p>\n",
       "</div>"
      ],
      "text/plain": [
       "       longitude  latitude  housing_median_age  total_rooms  total_bedrooms  \\\n",
       "0        -119.01     36.06                25.0       1505.0             NaN   \n",
       "1        -119.46     35.14                30.0       2943.0             NaN   \n",
       "2        -122.44     37.80                52.0       3830.0             NaN   \n",
       "3        -118.72     34.28                17.0       3051.0             NaN   \n",
       "4        -121.93     36.62                34.0       2351.0             NaN   \n",
       "...          ...       ...                 ...          ...             ...   \n",
       "12379    -117.81     33.88                19.0       2265.0           283.0   \n",
       "12380    -120.68     35.48                15.0       2608.0           525.0   \n",
       "12381    -120.91     38.98                13.0       7689.0          1415.0   \n",
       "12382    -117.72     34.09                36.0       1473.0           328.0   \n",
       "12383    -122.47     37.76                34.0       2807.0           487.0   \n",
       "\n",
       "       population  households  median_income  \n",
       "0          1392.0       359.0         1.6812  \n",
       "1          1565.0       584.0         2.5313  \n",
       "2          1310.0       963.0         3.4801  \n",
       "3          1705.0       495.0         5.7376  \n",
       "4          1063.0       428.0         3.7250  \n",
       "...           ...         ...            ...  \n",
       "12379       904.0       279.0         9.2327  \n",
       "12380      1351.0       502.0         2.7798  \n",
       "12381      3264.0      1198.0         3.6530  \n",
       "12382       785.0       299.0         3.2566  \n",
       "12383      1152.0       445.0         5.1893  \n",
       "\n",
       "[12384 rows x 8 columns]"
      ]
     },
     "execution_count": 182,
     "metadata": {},
     "output_type": "execute_result"
    }
   ],
   "source": [
    "#QUESTION 3:FILL NAN with Zeros or Mean\n",
    "\n",
    "base=[\"longitude\",\"latitude\",\"housing_median_age\",\"total_rooms\",\"total_bedrooms\",\"population\",\"households\",\"median_income\"]\n",
    "df_train[base]\n"
   ]
  },
  {
   "cell_type": "code",
   "execution_count": 183,
   "id": "4d9876bb-d78d-4c67-878b-15f214ee4f8c",
   "metadata": {},
   "outputs": [
    {
     "data": {
      "text/plain": [
       "array([[-1.1901e+02,  3.6060e+01,  2.5000e+01, ...,  1.3920e+03,\n",
       "         3.5900e+02,  1.6812e+00],\n",
       "       [-1.1946e+02,  3.5140e+01,  3.0000e+01, ...,  1.5650e+03,\n",
       "         5.8400e+02,  2.5313e+00],\n",
       "       [-1.2244e+02,  3.7800e+01,  5.2000e+01, ...,  1.3100e+03,\n",
       "         9.6300e+02,  3.4801e+00],\n",
       "       ...,\n",
       "       [-1.2091e+02,  3.8980e+01,  1.3000e+01, ...,  3.2640e+03,\n",
       "         1.1980e+03,  3.6530e+00],\n",
       "       [-1.1772e+02,  3.4090e+01,  3.6000e+01, ...,  7.8500e+02,\n",
       "         2.9900e+02,  3.2566e+00],\n",
       "       [-1.2247e+02,  3.7760e+01,  3.4000e+01, ...,  1.1520e+03,\n",
       "         4.4500e+02,  5.1893e+00]])"
      ]
     },
     "execution_count": 183,
     "metadata": {},
     "output_type": "execute_result"
    }
   ],
   "source": [
    "#Zeros\n",
    "\n",
    "X_train_zeros=df_train[base].fillna(0).values #extraigo los valores\n",
    "X_train_zeros"
   ]
  },
  {
   "cell_type": "code",
   "execution_count": 184,
   "id": "ca2593f3-1a63-48c5-a247-c1da1e01e792",
   "metadata": {},
   "outputs": [],
   "source": [
    "#Modelo\n",
    "\n",
    "def train_regresion_lineal(X, y):\n",
    "    ones=np.ones(X.shape[0])\n",
    "    X=np.column_stack([ones, X])    \n",
    "    XTX=X.T.dot(X)\n",
    "    XTX_inv=np.linalg.inv(XTX)\n",
    "    w_full=XTX_inv.dot(X.T).dot(y)\n",
    "    return w_full[0],w_full[1:]"
   ]
  },
  {
   "cell_type": "code",
   "execution_count": 185,
   "id": "a337309b-7ee1-4ecb-820c-053782e0b958",
   "metadata": {},
   "outputs": [
    {
     "data": {
      "text/plain": [
       "<AxesSubplot:ylabel='Count'>"
      ]
     },
     "execution_count": 185,
     "metadata": {},
     "output_type": "execute_result"
    },
    {
     "data": {
      "image/png": "[encoded data removed]",
      "text/plain": [
       "<Figure size 640x480 with 1 Axes>"
      ]
     },
     "metadata": {},
     "output_type": "display_data"
    }
   ],
   "source": [
    "#Regresion Lineal con zeros\n",
    "\n",
    "train_regresion_lineal(X_train_zeros, y_train)\n",
    "w0,w=train_regresion_lineal(X_train_zeros, y_train)\n",
    "w0,w\n",
    "\n",
    "y_prediction=w0 + X_train_zeros.dot(w)\n",
    "\n",
    "sns.histplot(y_prediction, color=\"blue\", bins=50, alpha=0.5) #Prediction\n",
    "sns.histplot(y_train, color=\"red\", bins=50, alpha=0.5) #Target"
   ]
  },
  {
   "cell_type": "code",
   "execution_count": 186,
   "id": "ca4d8070-e237-4768-bd27-afa50567d497",
   "metadata": {},
   "outputs": [
    {
     "data": {
      "text/plain": [
       "0.3413135910156675"
      ]
     },
     "execution_count": 186,
     "metadata": {},
     "output_type": "execute_result"
    }
   ],
   "source": [
    "#RMSE de Zeros\n",
    "\n",
    "def rmse (y, y_prediction):\n",
    "    error=y- y_prediction\n",
    "    se=error**2\n",
    "    mse=se.mean()\n",
    "    return np.sqrt(mse)\n",
    "\n",
    "rmse_zeros=rmse(y_train, y_prediction)\n",
    "rmse_zeros"
   ]
  },
  {
   "cell_type": "code",
   "execution_count": 187,
   "id": "f8ff07af-7b43-4172-a3d2-3defd5059f49",
   "metadata": {},
   "outputs": [
    {
     "data": {
      "text/plain": [
       "533.4803317730147"
      ]
     },
     "execution_count": 187,
     "metadata": {},
     "output_type": "execute_result"
    }
   ],
   "source": [
    "#Fullfill with MEAN\n",
    "\n",
    "promedio=np.mean(df_train.total_bedrooms)\n",
    "promedio"
   ]
  },
  {
   "cell_type": "code",
   "execution_count": 188,
   "id": "40ae83e6-8912-4114-85a3-f6db7caae2bc",
   "metadata": {},
   "outputs": [
    {
     "data": {
      "text/plain": [
       "array([[-1.1901e+02,  3.6060e+01,  2.5000e+01, ...,  1.3920e+03,\n",
       "         3.5900e+02,  1.6812e+00],\n",
       "       [-1.1946e+02,  3.5140e+01,  3.0000e+01, ...,  1.5650e+03,\n",
       "         5.8400e+02,  2.5313e+00],\n",
       "       [-1.2244e+02,  3.7800e+01,  5.2000e+01, ...,  1.3100e+03,\n",
       "         9.6300e+02,  3.4801e+00],\n",
       "       ...,\n",
       "       [-1.2091e+02,  3.8980e+01,  1.3000e+01, ...,  3.2640e+03,\n",
       "         1.1980e+03,  3.6530e+00],\n",
       "       [-1.1772e+02,  3.4090e+01,  3.6000e+01, ...,  7.8500e+02,\n",
       "         2.9900e+02,  3.2566e+00],\n",
       "       [-1.2247e+02,  3.7760e+01,  3.4000e+01, ...,  1.1520e+03,\n",
       "         4.4500e+02,  5.1893e+00]])"
      ]
     },
     "execution_count": 188,
     "metadata": {},
     "output_type": "execute_result"
    }
   ],
   "source": [
    "X_train_mean=df_train[base].fillna(np.mean(df_train.total_bedrooms)).values #extraigo los valores\n",
    "X_train_mean"
   ]
  },
  {
   "cell_type": "code",
   "execution_count": 189,
   "id": "e439d363-81bc-4af1-82b1-cbfe1fb7eea1",
   "metadata": {},
   "outputs": [
    {
     "data": {
      "text/plain": [
       "<AxesSubplot:ylabel='Count'>"
      ]
     },
     "execution_count": 189,
     "metadata": {},
     "output_type": "execute_result"
    },
    {
     "data": {
      "image/png": "[encoded data removed]",
      "text/plain": [
       "<Figure size 640x480 with 1 Axes>"
      ]
     },
     "metadata": {},
     "output_type": "display_data"
    }
   ],
   "source": [
    "#Regresion Lineal con mean\n",
    "\n",
    "train_regresion_lineal(X_train_mean, y_train)\n",
    "w0,w=train_regresion_lineal(X_train_mean, y_train)\n",
    "w0,w\n",
    "\n",
    "y_prediction_mean=w0 + X_train_mean.dot(w)\n",
    "\n",
    "sns.histplot(y_prediction_mean, color=\"blue\", bins=50, alpha=0.5) #Prediction with means\n",
    "sns.histplot(y_train, color=\"red\", bins=50, alpha=0.5) #Target"
   ]
  },
  {
   "cell_type": "code",
   "execution_count": 190,
   "id": "e5c048cc-fad1-4386-9871-41941756791a",
   "metadata": {},
   "outputs": [
    {
     "data": {
      "text/plain": [
       "<AxesSubplot:ylabel='Count'>"
      ]
     },
     "execution_count": 190,
     "metadata": {},
     "output_type": "execute_result"
    },
    {
     "data": {
      "image/png": "[encoded data removed]",
      "text/plain": [
       "<Figure size 640x480 with 1 Axes>"
      ]
     },
     "metadata": {},
     "output_type": "display_data"
    }
   ],
   "source": [
    "sns.histplot(y_prediction_mean, color=\"red\", bins=50, alpha=0.3) #Prediction with means\n",
    "sns.histplot(y_prediction, color=\"gray\", bins=50, alpha=0.6) #Prediction with zeros"
   ]
  },
  {
   "cell_type": "code",
   "execution_count": 191,
   "id": "026c510a-c902-4cec-8ff0-f2e76fd1f975",
   "metadata": {},
   "outputs": [
    {
     "data": {
      "text/plain": [
       "True"
      ]
     },
     "execution_count": 191,
     "metadata": {},
     "output_type": "execute_result"
    }
   ],
   "source": [
    "#RMSE de memans\n",
    "\n",
    "def rmse (y, y_prediction):\n",
    "    error=y- y_prediction\n",
    "    se=error**2\n",
    "    mse=se.mean()\n",
    "    return np.sqrt(mse)\n",
    "\n",
    "rmse_means=rmse(y_train, y_prediction_mean)\n",
    "rmse_means=round(rmse_means, 2)\n",
    "rmse_means\n",
    "\n",
    "rmse_zeros=round(rmse_zeros, 2)\n",
    "rmse_zeros\n",
    "\n",
    "rmse_zeros==rmse_means #ambas son buenos / Both are good.\n"
   ]
  },
  {
   "cell_type": "code",
   "execution_count": 192,
   "id": "f3da00b4-6843-4beb-8971-8a575c2280a5",
   "metadata": {},
   "outputs": [
    {
     "name": "stdout",
     "output_type": "stream",
     "text": [
      "0 -11.686975241970226 0.329533\n",
      "1e-06 -11.686959175950335 0.329533\n",
      "0.0001 -11.68536886556655 0.329533\n",
      "0.001 -11.670931318286257 0.329533\n",
      "0.01 -11.528493586076086 0.329532\n",
      "0.1 -10.274500282121712 0.329695\n",
      "1 -4.920480897796898 0.333789\n",
      "5 -1.482095745685135 0.339249\n",
      "10 -0.7899311832050503 0.340606\n"
     ]
    }
   ],
   "source": [
    "#Question 4\n",
    "\n",
    "#Regularizado\n",
    "\n",
    "def prepare_X(df):\n",
    "    df_num = df[base]\n",
    "    df_num=df_num.fillna(0)\n",
    "    X=df_num.values\n",
    "    return X\n",
    "\n",
    "def train_regresion_lineal_reg(X, y, r):\n",
    "    ones=np.ones(X.shape[0])\n",
    "    X=np.column_stack([ones, X])\n",
    "    \n",
    "    XTX=X.T.dot(X)\n",
    "    XTX=XTX+r*np.eye(XTX.shape[0])\n",
    "    \n",
    "    XTX_inv=np.linalg.inv(XTX)\n",
    "    \n",
    "    w_full=XTX_inv.dot(X.T).dot(y)\n",
    "    return w_full[0],w_full[1:]\n",
    "\n",
    "prepare_X(df_train)\n",
    "\n",
    "for r in [0, 0.000001, 0.0001, 0.001, 0.01, 0.1, 1, 5, 10]:\n",
    "    X_train=prepare_X(df_train)\n",
    "    w0,w=train_regresion_lineal_reg(X_train, y_train, r=r)\n",
    "    \n",
    "    X_val= prepare_X(df_val)\n",
    "    y_pred=w0 + X_val.dot(w)\n",
    "    score=rmse(y_val, y_pred)\n",
    "    score=round(score,6)\n",
    "    \n",
    "    print(r, w0, score)\n",
    "    \n",
    "    #El mejor resultado es 0.01 con un RMSE de 0.573698 y un W0 de 11.2780"
   ]
  },
  {
   "cell_type": "code",
   "execution_count": 202,
   "id": "3f743f39-c9a6-4749-96e7-b1ae0dcf1600",
   "metadata": {},
   "outputs": [
    {
     "data": {
      "text/plain": [
       "0.5671403234773914"
      ]
     },
     "execution_count": 202,
     "metadata": {},
     "output_type": "execute_result"
    }
   ],
   "source": [
    "#Question 5\n",
    "\n",
    "#SPLIT THE DATA\n",
    "\n",
    "n = len(df_1)\n",
    "\n",
    "n_val=int(n*0.2)\n",
    "n_test=int(n*0.2)\n",
    "n_train=n-n_val-n_test\n",
    "\n",
    "n_val , n_test, n_train\n",
    "\n",
    "#Datasets Idx random SEED\n",
    "\n",
    "idx=np.arange(n)\n",
    "np.random.seed(9)\n",
    "np.random.shuffle(idx)\n",
    "idx\n",
    "\n",
    "#Dataframes\n",
    "\n",
    "df_train=df_1.iloc[idx[:n_train]]\n",
    "df_val=df_1.iloc[idx[n_train:n_train+n_val]]\n",
    "df_test=df_1.iloc[idx[n_train+n_val:]]\n",
    "\n",
    "df_train=df_train.reset_index(drop=True)\n",
    "df_val=df_val.reset_index(drop=True)\n",
    "df_test=df_test.reset_index(drop=True)\n",
    "\n",
    "X_train_zeros=df_train[base].fillna(0).values #extraigo los valores\n",
    "X_train_zeros\n",
    "\n",
    "#Modelo\n",
    "\n",
    "def train_regresion_lineal(X, y):\n",
    "    ones=np.ones(X.shape[0])\n",
    "    X=np.column_stack([ones, X])    \n",
    "    XTX=X.T.dot(X)\n",
    "    XTX_inv=np.linalg.inv(XTX)\n",
    "    w_full=XTX_inv.dot(X.T).dot(y)\n",
    "    return w_full[0],w_full[1:]\n",
    "\n",
    "#Regresion Lineal con zeros\n",
    "train_regresion_lineal(X_train_zeros, y_train)\n",
    "w0,w=train_regresion_lineal(X_train_zeros, y_train)\n",
    "w0,w\n",
    "\n",
    "y_prediction=w0 + X_train_zeros.dot(w)\n",
    "\n",
    "def rmse (y, y_prediction):\n",
    "    error=y- y_prediction\n",
    "    se=error**2\n",
    "    mse=se.mean()\n",
    "    return np.sqrt(mse)\n",
    "\n",
    "rmse_zeros_9=rmse(y_train, y_prediction)\n",
    "rmse_zeros_9\n"
   ]
  },
  {
   "cell_type": "code",
   "execution_count": 203,
   "id": "fa4a0008-71b0-4163-a26a-f5120f1f6515",
   "metadata": {},
   "outputs": [
    {
     "data": {
      "text/plain": [
       "array([0.56690336, 0.5670555 , 0.56702196, 0.56703702, 0.56669237,\n",
       "       0.56717757, 0.56686093, 0.56700991, 0.56712711, 0.56714032])"
      ]
     },
     "execution_count": 203,
     "metadata": {},
     "output_type": "execute_result"
    }
   ],
   "source": [
    "rmse_array=np.array([rmse_zeros_0, rmse_zeros_1, rmse_zeros_2, rmse_zeros_3, rmse_zeros_4, rmse_zeros_5, \n",
    "                     rmse_zeros_6, rmse_zeros_7,\n",
    "                     rmse_zeros_8, rmse_zeros_9])\n",
    "\n",
    "rmse_array"
   ]
  },
  {
   "cell_type": "code",
   "execution_count": 204,
   "id": "5c809085-e4d4-40d3-ac08-be0701765a55",
   "metadata": {},
   "outputs": [
    {
     "data": {
      "text/plain": [
       "0.00013987773686115714"
      ]
     },
     "execution_count": 204,
     "metadata": {},
     "output_type": "execute_result"
    }
   ],
   "source": [
    "#Std collect\n",
    "\n",
    "std=np.std(rmse_array)\n",
    "\n",
    "std # result = 0,000139 = 0,00014 = 0.00005\n"
   ]
  },
  {
   "cell_type": "code",
   "execution_count": 205,
   "id": "eae72bd2-c341-4558-a231-1a8891990342",
   "metadata": {},
   "outputs": [
    {
     "data": {
      "text/plain": [
       "0.0"
      ]
     },
     "execution_count": 205,
     "metadata": {},
     "output_type": "execute_result"
    }
   ],
   "source": [
    "std=round(std,3)\n",
    "std"
   ]
  },
  {
   "cell_type": "code",
   "execution_count": 206,
   "id": "c15ba21f-e6cc-4c63-bcb6-2b40974a9d08",
   "metadata": {},
   "outputs": [
    {
     "data": {
      "text/plain": [
       "(4128, 4128, 12384)"
      ]
     },
     "execution_count": 206,
     "metadata": {},
     "output_type": "execute_result"
    }
   ],
   "source": [
    "#Question 6\n",
    "\n",
    "#SPLIT THE DATA\n",
    "\n",
    "n = len(df_1)\n",
    "\n",
    "n_val=int(n*0.2)\n",
    "n_test=int(n*0.2)\n",
    "n_train=n-n_val-n_test\n",
    "\n",
    "n_val , n_test, n_train"
   ]
  },
  {
   "cell_type": "code",
   "execution_count": 207,
   "id": "6fa674cf-8a38-44ef-989c-3070548d21ac",
   "metadata": {},
   "outputs": [
    {
     "data": {
      "text/plain": [
       "array([20558, 11430,  2656, ...,  5014,  9979,   501])"
      ]
     },
     "execution_count": 207,
     "metadata": {},
     "output_type": "execute_result"
    }
   ],
   "source": [
    "#Datasets Idx random SEED\n",
    "\n",
    "idx=np.arange(n)\n",
    "np.random.seed(9)\n",
    "np.random.shuffle(idx)\n",
    "idx"
   ]
  },
  {
   "cell_type": "code",
   "execution_count": 208,
   "id": "3e9afee3-4f8d-4877-86f9-c29bcadb7321",
   "metadata": {},
   "outputs": [],
   "source": [
    "#Dataframes\n",
    "\n",
    "df_train=df_1.iloc[idx[:n_train]]\n",
    "df_val=df_1.iloc[idx[n_train:n_train+n_val]]\n",
    "df_test=df_1.iloc[idx[n_train+n_val:]]\n",
    "\n",
    "df_train=df_train.reset_index(drop=True)\n",
    "df_val=df_val.reset_index(drop=True)\n",
    "df_test=df_test.reset_index(drop=True)"
   ]
  },
  {
   "cell_type": "code",
   "execution_count": 209,
   "id": "30d8923c-ed37-4d56-9bad-92b1da4a0386",
   "metadata": {},
   "outputs": [
    {
     "data": {
      "text/html": [
       "<div>\n",
       "<style scoped>\n",
       "    .dataframe tbody tr th:only-of-type {\n",
       "        vertical-align: middle;\n",
       "    }\n",
       "\n",
       "    .dataframe tbody tr th {\n",
       "        vertical-align: top;\n",
       "    }\n",
       "\n",
       "    .dataframe thead th {\n",
       "        text-align: right;\n",
       "    }\n",
       "</style>\n",
       "<table border=\"1\" class=\"dataframe\">\n",
       "  <thead>\n",
       "    <tr style=\"text-align: right;\">\n",
       "      <th></th>\n",
       "      <th>longitude</th>\n",
       "      <th>latitude</th>\n",
       "      <th>housing_median_age</th>\n",
       "      <th>total_rooms</th>\n",
       "      <th>total_bedrooms</th>\n",
       "      <th>population</th>\n",
       "      <th>households</th>\n",
       "      <th>median_income</th>\n",
       "    </tr>\n",
       "  </thead>\n",
       "  <tbody>\n",
       "    <tr>\n",
       "      <th>0</th>\n",
       "      <td>-121.80</td>\n",
       "      <td>38.67</td>\n",
       "      <td>10.0</td>\n",
       "      <td>2086.0</td>\n",
       "      <td>380.0</td>\n",
       "      <td>1073.0</td>\n",
       "      <td>378.0</td>\n",
       "      <td>4.5526</td>\n",
       "    </tr>\n",
       "    <tr>\n",
       "      <th>1</th>\n",
       "      <td>-117.97</td>\n",
       "      <td>33.66</td>\n",
       "      <td>22.0</td>\n",
       "      <td>3914.0</td>\n",
       "      <td>600.0</td>\n",
       "      <td>1871.0</td>\n",
       "      <td>607.0</td>\n",
       "      <td>5.8541</td>\n",
       "    </tr>\n",
       "    <tr>\n",
       "      <th>2</th>\n",
       "      <td>-124.25</td>\n",
       "      <td>40.28</td>\n",
       "      <td>32.0</td>\n",
       "      <td>1430.0</td>\n",
       "      <td>419.0</td>\n",
       "      <td>434.0</td>\n",
       "      <td>187.0</td>\n",
       "      <td>1.9417</td>\n",
       "    </tr>\n",
       "    <tr>\n",
       "      <th>3</th>\n",
       "      <td>-117.11</td>\n",
       "      <td>32.69</td>\n",
       "      <td>37.0</td>\n",
       "      <td>2395.0</td>\n",
       "      <td>627.0</td>\n",
       "      <td>2489.0</td>\n",
       "      <td>599.0</td>\n",
       "      <td>1.5933</td>\n",
       "    </tr>\n",
       "    <tr>\n",
       "      <th>4</th>\n",
       "      <td>-118.37</td>\n",
       "      <td>34.21</td>\n",
       "      <td>36.0</td>\n",
       "      <td>1392.0</td>\n",
       "      <td>326.0</td>\n",
       "      <td>1181.0</td>\n",
       "      <td>303.0</td>\n",
       "      <td>3.1563</td>\n",
       "    </tr>\n",
       "    <tr>\n",
       "      <th>...</th>\n",
       "      <td>...</td>\n",
       "      <td>...</td>\n",
       "      <td>...</td>\n",
       "      <td>...</td>\n",
       "      <td>...</td>\n",
       "      <td>...</td>\n",
       "      <td>...</td>\n",
       "      <td>...</td>\n",
       "    </tr>\n",
       "    <tr>\n",
       "      <th>12379</th>\n",
       "      <td>-117.14</td>\n",
       "      <td>32.71</td>\n",
       "      <td>52.0</td>\n",
       "      <td>500.0</td>\n",
       "      <td>NaN</td>\n",
       "      <td>480.0</td>\n",
       "      <td>108.0</td>\n",
       "      <td>1.8696</td>\n",
       "    </tr>\n",
       "    <tr>\n",
       "      <th>12380</th>\n",
       "      <td>-118.35</td>\n",
       "      <td>33.91</td>\n",
       "      <td>19.0</td>\n",
       "      <td>1949.0</td>\n",
       "      <td>559.0</td>\n",
       "      <td>1282.0</td>\n",
       "      <td>498.0</td>\n",
       "      <td>2.7813</td>\n",
       "    </tr>\n",
       "    <tr>\n",
       "      <th>12381</th>\n",
       "      <td>-118.46</td>\n",
       "      <td>34.29</td>\n",
       "      <td>24.0</td>\n",
       "      <td>3668.0</td>\n",
       "      <td>890.0</td>\n",
       "      <td>3151.0</td>\n",
       "      <td>810.0</td>\n",
       "      <td>3.0526</td>\n",
       "    </tr>\n",
       "    <tr>\n",
       "      <th>12382</th>\n",
       "      <td>-118.13</td>\n",
       "      <td>33.83</td>\n",
       "      <td>44.0</td>\n",
       "      <td>1710.0</td>\n",
       "      <td>333.0</td>\n",
       "      <td>786.0</td>\n",
       "      <td>344.0</td>\n",
       "      <td>4.2917</td>\n",
       "    </tr>\n",
       "    <tr>\n",
       "      <th>12383</th>\n",
       "      <td>-117.85</td>\n",
       "      <td>33.79</td>\n",
       "      <td>46.0</td>\n",
       "      <td>1846.0</td>\n",
       "      <td>383.0</td>\n",
       "      <td>867.0</td>\n",
       "      <td>336.0</td>\n",
       "      <td>3.4234</td>\n",
       "    </tr>\n",
       "  </tbody>\n",
       "</table>\n",
       "<p>12384 rows × 8 columns</p>\n",
       "</div>"
      ],
      "text/plain": [
       "       longitude  latitude  housing_median_age  total_rooms  total_bedrooms  \\\n",
       "0        -121.80     38.67                10.0       2086.0           380.0   \n",
       "1        -117.97     33.66                22.0       3914.0           600.0   \n",
       "2        -124.25     40.28                32.0       1430.0           419.0   \n",
       "3        -117.11     32.69                37.0       2395.0           627.0   \n",
       "4        -118.37     34.21                36.0       1392.0           326.0   \n",
       "...          ...       ...                 ...          ...             ...   \n",
       "12379    -117.14     32.71                52.0        500.0             NaN   \n",
       "12380    -118.35     33.91                19.0       1949.0           559.0   \n",
       "12381    -118.46     34.29                24.0       3668.0           890.0   \n",
       "12382    -118.13     33.83                44.0       1710.0           333.0   \n",
       "12383    -117.85     33.79                46.0       1846.0           383.0   \n",
       "\n",
       "       population  households  median_income  \n",
       "0          1073.0       378.0         4.5526  \n",
       "1          1871.0       607.0         5.8541  \n",
       "2           434.0       187.0         1.9417  \n",
       "3          2489.0       599.0         1.5933  \n",
       "4          1181.0       303.0         3.1563  \n",
       "...           ...         ...            ...  \n",
       "12379       480.0       108.0         1.8696  \n",
       "12380      1282.0       498.0         2.7813  \n",
       "12381      3151.0       810.0         3.0526  \n",
       "12382       786.0       344.0         4.2917  \n",
       "12383       867.0       336.0         3.4234  \n",
       "\n",
       "[12384 rows x 8 columns]"
      ]
     },
     "execution_count": 209,
     "metadata": {},
     "output_type": "execute_result"
    }
   ],
   "source": [
    "#Log price\n",
    "\n",
    "y_train=np.log1p(df_train.median_house_value.values)\n",
    "y_val=np.log1p(df_val.median_house_value.values)\n",
    "y_test=np.log1p(df_test.median_house_value.values)\n",
    "\n",
    "#Target value ('median_house_value') is not in your dataframe\n",
    "\n",
    "del df_train[\"median_house_value\"]\n",
    "del df_val[\"median_house_value\"]\n",
    "del df_test[\"median_house_value\"]\n",
    "\n",
    "df_train"
   ]
  },
  {
   "cell_type": "code",
   "execution_count": 210,
   "id": "c3de1fe8-eb91-478c-a2aa-3cbac37dcfd3",
   "metadata": {},
   "outputs": [
    {
     "data": {
      "text/html": [
       "<div>\n",
       "<style scoped>\n",
       "    .dataframe tbody tr th:only-of-type {\n",
       "        vertical-align: middle;\n",
       "    }\n",
       "\n",
       "    .dataframe tbody tr th {\n",
       "        vertical-align: top;\n",
       "    }\n",
       "\n",
       "    .dataframe thead th {\n",
       "        text-align: right;\n",
       "    }\n",
       "</style>\n",
       "<table border=\"1\" class=\"dataframe\">\n",
       "  <thead>\n",
       "    <tr style=\"text-align: right;\">\n",
       "      <th></th>\n",
       "      <th>longitude</th>\n",
       "      <th>latitude</th>\n",
       "      <th>housing_median_age</th>\n",
       "      <th>total_rooms</th>\n",
       "      <th>total_bedrooms</th>\n",
       "      <th>population</th>\n",
       "      <th>households</th>\n",
       "      <th>median_income</th>\n",
       "    </tr>\n",
       "  </thead>\n",
       "  <tbody>\n",
       "    <tr>\n",
       "      <th>0</th>\n",
       "      <td>-121.80</td>\n",
       "      <td>38.67</td>\n",
       "      <td>10.0</td>\n",
       "      <td>2086.0</td>\n",
       "      <td>380.0</td>\n",
       "      <td>1073.0</td>\n",
       "      <td>378.0</td>\n",
       "      <td>4.5526</td>\n",
       "    </tr>\n",
       "    <tr>\n",
       "      <th>1</th>\n",
       "      <td>-117.97</td>\n",
       "      <td>33.66</td>\n",
       "      <td>22.0</td>\n",
       "      <td>3914.0</td>\n",
       "      <td>600.0</td>\n",
       "      <td>1871.0</td>\n",
       "      <td>607.0</td>\n",
       "      <td>5.8541</td>\n",
       "    </tr>\n",
       "    <tr>\n",
       "      <th>2</th>\n",
       "      <td>-124.25</td>\n",
       "      <td>40.28</td>\n",
       "      <td>32.0</td>\n",
       "      <td>1430.0</td>\n",
       "      <td>419.0</td>\n",
       "      <td>434.0</td>\n",
       "      <td>187.0</td>\n",
       "      <td>1.9417</td>\n",
       "    </tr>\n",
       "    <tr>\n",
       "      <th>3</th>\n",
       "      <td>-117.11</td>\n",
       "      <td>32.69</td>\n",
       "      <td>37.0</td>\n",
       "      <td>2395.0</td>\n",
       "      <td>627.0</td>\n",
       "      <td>2489.0</td>\n",
       "      <td>599.0</td>\n",
       "      <td>1.5933</td>\n",
       "    </tr>\n",
       "    <tr>\n",
       "      <th>4</th>\n",
       "      <td>-118.37</td>\n",
       "      <td>34.21</td>\n",
       "      <td>36.0</td>\n",
       "      <td>1392.0</td>\n",
       "      <td>326.0</td>\n",
       "      <td>1181.0</td>\n",
       "      <td>303.0</td>\n",
       "      <td>3.1563</td>\n",
       "    </tr>\n",
       "    <tr>\n",
       "      <th>...</th>\n",
       "      <td>...</td>\n",
       "      <td>...</td>\n",
       "      <td>...</td>\n",
       "      <td>...</td>\n",
       "      <td>...</td>\n",
       "      <td>...</td>\n",
       "      <td>...</td>\n",
       "      <td>...</td>\n",
       "    </tr>\n",
       "    <tr>\n",
       "      <th>16507</th>\n",
       "      <td>-122.30</td>\n",
       "      <td>38.31</td>\n",
       "      <td>34.0</td>\n",
       "      <td>1797.0</td>\n",
       "      <td>395.0</td>\n",
       "      <td>1162.0</td>\n",
       "      <td>407.0</td>\n",
       "      <td>3.4550</td>\n",
       "    </tr>\n",
       "    <tr>\n",
       "      <th>16508</th>\n",
       "      <td>-118.54</td>\n",
       "      <td>34.27</td>\n",
       "      <td>28.0</td>\n",
       "      <td>2309.0</td>\n",
       "      <td>300.0</td>\n",
       "      <td>931.0</td>\n",
       "      <td>302.0</td>\n",
       "      <td>6.7415</td>\n",
       "    </tr>\n",
       "    <tr>\n",
       "      <th>16509</th>\n",
       "      <td>-118.13</td>\n",
       "      <td>33.93</td>\n",
       "      <td>34.0</td>\n",
       "      <td>2122.0</td>\n",
       "      <td>517.0</td>\n",
       "      <td>1578.0</td>\n",
       "      <td>488.0</td>\n",
       "      <td>3.1496</td>\n",
       "    </tr>\n",
       "    <tr>\n",
       "      <th>16510</th>\n",
       "      <td>-118.37</td>\n",
       "      <td>34.11</td>\n",
       "      <td>42.0</td>\n",
       "      <td>5518.0</td>\n",
       "      <td>979.0</td>\n",
       "      <td>1863.0</td>\n",
       "      <td>957.0</td>\n",
       "      <td>8.5842</td>\n",
       "    </tr>\n",
       "    <tr>\n",
       "      <th>16511</th>\n",
       "      <td>-118.37</td>\n",
       "      <td>34.08</td>\n",
       "      <td>52.0</td>\n",
       "      <td>1234.0</td>\n",
       "      <td>223.0</td>\n",
       "      <td>543.0</td>\n",
       "      <td>213.0</td>\n",
       "      <td>6.0338</td>\n",
       "    </tr>\n",
       "  </tbody>\n",
       "</table>\n",
       "<p>16512 rows × 8 columns</p>\n",
       "</div>"
      ],
      "text/plain": [
       "       longitude  latitude  housing_median_age  total_rooms  total_bedrooms  \\\n",
       "0        -121.80     38.67                10.0       2086.0           380.0   \n",
       "1        -117.97     33.66                22.0       3914.0           600.0   \n",
       "2        -124.25     40.28                32.0       1430.0           419.0   \n",
       "3        -117.11     32.69                37.0       2395.0           627.0   \n",
       "4        -118.37     34.21                36.0       1392.0           326.0   \n",
       "...          ...       ...                 ...          ...             ...   \n",
       "16507    -122.30     38.31                34.0       1797.0           395.0   \n",
       "16508    -118.54     34.27                28.0       2309.0           300.0   \n",
       "16509    -118.13     33.93                34.0       2122.0           517.0   \n",
       "16510    -118.37     34.11                42.0       5518.0           979.0   \n",
       "16511    -118.37     34.08                52.0       1234.0           223.0   \n",
       "\n",
       "       population  households  median_income  \n",
       "0          1073.0       378.0         4.5526  \n",
       "1          1871.0       607.0         5.8541  \n",
       "2           434.0       187.0         1.9417  \n",
       "3          2489.0       599.0         1.5933  \n",
       "4          1181.0       303.0         3.1563  \n",
       "...           ...         ...            ...  \n",
       "16507      1162.0       407.0         3.4550  \n",
       "16508       931.0       302.0         6.7415  \n",
       "16509      1578.0       488.0         3.1496  \n",
       "16510      1863.0       957.0         8.5842  \n",
       "16511       543.0       213.0         6.0338  \n",
       "\n",
       "[16512 rows x 8 columns]"
      ]
     },
     "execution_count": 210,
     "metadata": {},
     "output_type": "execute_result"
    }
   ],
   "source": [
    "df_full_train=pd.concat([df_train, df_val])\n",
    "df_full_train\n",
    "\n",
    "df_full_train=df_full_train.reset_index(drop=True)\n",
    "df_full_train"
   ]
  },
  {
   "cell_type": "code",
   "execution_count": 211,
   "id": "d1665fb2-54d0-4017-bf3f-11b8eca4d6dc",
   "metadata": {},
   "outputs": [
    {
     "data": {
      "text/plain": [
       "array([11.94730839, 12.54789128, 11.23981668, ..., 12.16473489,\n",
       "       13.12236738, 12.9567833 ])"
      ]
     },
     "execution_count": 211,
     "metadata": {},
     "output_type": "execute_result"
    }
   ],
   "source": [
    "y_full_train=np.concatenate([y_train, y_val])\n",
    "y_full_train"
   ]
  },
  {
   "cell_type": "code",
   "execution_count": 212,
   "id": "7b9986ce-699b-412a-bbac-7206ad5b54be",
   "metadata": {},
   "outputs": [
    {
     "data": {
      "text/plain": [
       "longitude               0\n",
       "latitude                0\n",
       "housing_median_age      0\n",
       "total_rooms             0\n",
       "total_bedrooms        168\n",
       "population              0\n",
       "households              0\n",
       "median_income           0\n",
       "dtype: int64"
      ]
     },
     "execution_count": 212,
     "metadata": {},
     "output_type": "execute_result"
    }
   ],
   "source": [
    "df_full_train.isnull().sum()"
   ]
  },
  {
   "cell_type": "code",
   "execution_count": 213,
   "id": "48315fcd-5a23-46da-bbe9-5fbb8321dba6",
   "metadata": {},
   "outputs": [
    {
     "data": {
      "text/plain": [
       "array([[-121.8   ,   38.67  ,   10.    , ..., 1073.    ,  378.    ,\n",
       "           4.5526],\n",
       "       [-117.97  ,   33.66  ,   22.    , ..., 1871.    ,  607.    ,\n",
       "           5.8541],\n",
       "       [-124.25  ,   40.28  ,   32.    , ...,  434.    ,  187.    ,\n",
       "           1.9417],\n",
       "       ...,\n",
       "       [-118.13  ,   33.93  ,   34.    , ..., 1578.    ,  488.    ,\n",
       "           3.1496],\n",
       "       [-118.37  ,   34.11  ,   42.    , ..., 1863.    ,  957.    ,\n",
       "           8.5842],\n",
       "       [-118.37  ,   34.08  ,   52.    , ...,  543.    ,  213.    ,\n",
       "           6.0338]])"
      ]
     },
     "execution_count": 213,
     "metadata": {},
     "output_type": "execute_result"
    }
   ],
   "source": [
    "base=[\"longitude\",\"latitude\",\"housing_median_age\",\"total_rooms\",\"total_bedrooms\",\"population\",\"households\",\"median_income\"]\n",
    "df_train[base]\n",
    "\n",
    "#Zeros\n",
    "\n",
    "X_train_zeros_full=df_full_train[base].fillna(0).values #extraigo los valores\n",
    "X_train_zeros_full"
   ]
  },
  {
   "cell_type": "code",
   "execution_count": 224,
   "id": "4f3fcc36-2c1f-4313-9ee3-2016387314ca",
   "metadata": {},
   "outputs": [
    {
     "data": {
      "text/plain": [
       "0.35"
      ]
     },
     "execution_count": 224,
     "metadata": {},
     "output_type": "execute_result"
    }
   ],
   "source": [
    "#Modelo\n",
    "\n",
    "def prepare_X(df):\n",
    "    df_num = df[base]\n",
    "    df_num=df_num.fillna(0)\n",
    "    X=df_num.values\n",
    "    return X\n",
    "\n",
    "def train_regresion_lineal_reg(X, y, r):\n",
    "    ones=np.ones(X.shape[0])\n",
    "    X=np.column_stack([ones, X])\n",
    "    \n",
    "    XTX=X.T.dot(X)\n",
    "    XTX=XTX+r*np.eye(XTX.shape[0])\n",
    "    \n",
    "    XTX_inv=np.linalg.inv(XTX)\n",
    "    \n",
    "    w_full=XTX_inv.dot(X.T).dot(y)\n",
    "    return w_full[0],w_full[1:]\n",
    "\n",
    "prepare_X(df_full_train)\n",
    "\n",
    "w0,w=train_regresion_lineal_reg(X_train_zeros_full, y_full_train, r=0.001)\n",
    "w0, w\n",
    "\n",
    "X_test= prepare_X(df_test)\n",
    "y_pred=w0 + X_test.dot(w)\n",
    "\n",
    "score=rmse(y_test, y_pred)\n",
    "\n",
    "score=round(score,2)\n",
    "\n",
    "score #0,35\n"
   ]
  }
 ],
 "metadata": {
  "kernelspec": {
   "display_name": "Python 3 (ipykernel)",
   "language": "python",
   "name": "python3"
  },
  "language_info": {
   "codemirror_mode": {
    "name": "ipython",
    "version": 3
   },
   "file_extension": ".py",
   "mimetype": "text/x-python",
   "name": "python",
   "nbconvert_exporter": "python",
   "pygments_lexer": "ipython3",
   "version": "3.9.13"
  }
 },
 "nbformat": 4,
 "nbformat_minor": 5
}
